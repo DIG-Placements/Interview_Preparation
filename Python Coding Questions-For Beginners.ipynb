{
 "cells": [
  {
   "cell_type": "code",
   "execution_count": null,
   "metadata": {},
   "outputs": [],
   "source": [
    "Python Test Questions for Beginners:\n",
    "\n",
    "1. Print a String Value.\n",
    "2. Print an Ineteger Value \n",
    "3. Print a Float Value \n",
    "4. Print a None value \n",
    "5. Print a Boolen Value \n",
    "6. Print the type of each of the above\n",
    "7. Add first 5 odd numbers\n",
    "8. Subtract highest three digit number from highest 5 digit number\n",
    "9. Print a Tuple and its type.\n",
    "10. Print a set and its type.\n",
    "11. Print a Dictionary and its type.\n",
    "12. Write the Float and Floor value of 9 divided by 7.\n",
    "13. Convert 7.8, 8.9, 6.7 into integer.\n",
    "14. Generate a random number between 1 and 19.\n",
    "15. Generate a random number. \n",
    "16. What will be the modulus value of 456%34, 7892637634732372832%283478753928392.\n",
    "17. Write an expression to show equal functions and a not equal function.\n",
    "18. Write a simple lambda function.\n",
    "19. Write a function to extract odd numbers from first 100 natural numbers.\n",
    "20. Is 2004,2010,2020,2023 a leap year? Write the code for testing the same. \n",
    "21. Print a Hello World Statement.\n",
    "22. If, a= 10, b= 20, c= 30, d= 40, what will be the value of x= (a+b)+(c+d)+(a+c)+(b+d)?\n",
    "23. For x = 56-45, y = 67-56. Print the answers together.\n",
    "24. Write the comand to install any package in python.\n",
    "25. Write an expression for extracting area code and mainnumber from 415-555-4242, using regular expression.\n",
    "\n"
   ]
  },
  {
   "cell_type": "code",
   "execution_count": 5,
   "metadata": {},
   "outputs": [
    {
     "name": "stdout",
     "output_type": "stream",
     "text": [
      "Python\n",
      "<class 'str'>\n",
      "Python\n",
      "<class 'str'>\n"
     ]
    }
   ],
   "source": [
    "# 1. Print a String Value.\n",
    "x= \"Python\"\n",
    "print (x)\n",
    "print (type(x))\n",
    "y= 'Python'\n",
    "print (y)\n",
    "print (type(y))"
   ]
  },
  {
   "cell_type": "code",
   "execution_count": 4,
   "metadata": {},
   "outputs": [
    {
     "name": "stdout",
     "output_type": "stream",
     "text": [
      "2\n",
      "<class 'int'>\n"
     ]
    }
   ],
   "source": [
    "# 2. Print an Ineteger Value.\n",
    "x = 2\n",
    "print (x)\n",
    "print (type(x))"
   ]
  },
  {
   "cell_type": "code",
   "execution_count": 6,
   "metadata": {},
   "outputs": [
    {
     "name": "stdout",
     "output_type": "stream",
     "text": [
      "2.8\n",
      "<class 'float'>\n"
     ]
    }
   ],
   "source": [
    "# 3. Print a Float Value \n",
    "x = 2.8\n",
    "print (x)\n",
    "print (type(x))"
   ]
  },
  {
   "cell_type": "code",
   "execution_count": 7,
   "metadata": {},
   "outputs": [
    {
     "name": "stdout",
     "output_type": "stream",
     "text": [
      "None\n",
      "<class 'NoneType'>\n"
     ]
    }
   ],
   "source": [
    "# 4. Print a None value \n",
    "x = None\n",
    "print(x)\n",
    "print(type(x))"
   ]
  },
  {
   "cell_type": "code",
   "execution_count": 8,
   "metadata": {},
   "outputs": [
    {
     "name": "stdout",
     "output_type": "stream",
     "text": [
      "True\n",
      "<class 'bool'>\n",
      "False\n",
      "<class 'bool'>\n"
     ]
    }
   ],
   "source": [
    "# 5. Print a Boolen Value\n",
    "x = True\n",
    "print (x)\n",
    "print (type(x))\n",
    "\n",
    "y = False\n",
    "print (y)\n",
    "print (type(y))"
   ]
  },
  {
   "cell_type": "code",
   "execution_count": null,
   "metadata": {},
   "outputs": [],
   "source": [
    "# 6. Print the type of each of the above\n",
    "\n",
    "# Done Above in each command.\n",
    "# To see the type of each variable type: \n",
    " \n",
    "# print (type(variable name))"
   ]
  },
  {
   "cell_type": "code",
   "execution_count": 9,
   "metadata": {},
   "outputs": [
    {
     "data": {
      "text/plain": [
       "36"
      ]
     },
     "execution_count": 9,
     "metadata": {},
     "output_type": "execute_result"
    }
   ],
   "source": [
    "# 7. Add first 5 odd numbers\n",
    "1+3+5+7+9+11"
   ]
  },
  {
   "cell_type": "code",
   "execution_count": 10,
   "metadata": {},
   "outputs": [
    {
     "data": {
      "text/plain": [
       "99000"
      ]
     },
     "execution_count": 10,
     "metadata": {},
     "output_type": "execute_result"
    }
   ],
   "source": [
    "# 8. Subtract highest three digit number from highest 5 digit number\n",
    "99999 - 999"
   ]
  },
  {
   "cell_type": "code",
   "execution_count": 11,
   "metadata": {},
   "outputs": [
    {
     "name": "stdout",
     "output_type": "stream",
     "text": [
      "('Cherry', 'Mango', 2, 3.9)\n",
      "<class 'tuple'>\n"
     ]
    }
   ],
   "source": [
    "# 9. Print a Tuple and its type.\n",
    "x = ('Cherry', 'Mango', 2, 3.9)\n",
    "print (x)\n",
    "print (type(x))"
   ]
  },
  {
   "cell_type": "code",
   "execution_count": 13,
   "metadata": {},
   "outputs": [
    {
     "name": "stdout",
     "output_type": "stream",
     "text": [
      "{'Cherry', 2, 3.9, 'Mango'}\n",
      "<class 'set'>\n"
     ]
    }
   ],
   "source": [
    "# 10. Print a set and its type.\n",
    "x = {'Cherry', 'Mango', 2, 3.9}\n",
    "print (x)\n",
    "print (type(x))"
   ]
  },
  {
   "cell_type": "code",
   "execution_count": 14,
   "metadata": {},
   "outputs": [
    {
     "name": "stdout",
     "output_type": "stream",
     "text": [
      "{'Name': 'John', 'Age': 67, 'Salary': 78000.89}\n",
      "<class 'dict'>\n"
     ]
    }
   ],
   "source": [
    "# 11. Print a Dictionary and its type.\n",
    "details = {'Name': 'John', 'Age': 67, 'Salary': 78000.89}\n",
    "print (details)\n",
    "print (type(details))"
   ]
  },
  {
   "cell_type": "code",
   "execution_count": 16,
   "metadata": {},
   "outputs": [
    {
     "name": "stdout",
     "output_type": "stream",
     "text": [
      "1.2857142857142858\n",
      "1\n",
      "<class 'float'>\n",
      "<class 'int'>\n"
     ]
    }
   ],
   "source": [
    "# 12. Write the Float and Floor value of 9 divided by 7.\n",
    "x = 9/7\n",
    "y = 9//7\n",
    "\n",
    "print (x)\n",
    "print (y)\n",
    "\n",
    "print (type(x))\n",
    "print (type(y)) "
   ]
  },
  {
   "cell_type": "code",
   "execution_count": 18,
   "metadata": {},
   "outputs": [
    {
     "name": "stdout",
     "output_type": "stream",
     "text": [
      "7\n",
      "<class 'int'>\n",
      "8\n",
      "<class 'int'>\n",
      "6\n",
      "<class 'int'>\n"
     ]
    }
   ],
   "source": [
    "# 13. Convert 7.8, 8.9, 6.7 into integer.\n",
    "x = int (7.8)\n",
    "print (x)\n",
    "print (type(x))\n",
    "\n",
    "y = int (8.9)\n",
    "print (y)\n",
    "print (type(y))\n",
    "\n",
    "z = int (6.7)\n",
    "print (z)\n",
    "print (type(z))"
   ]
  },
  {
   "cell_type": "code",
   "execution_count": 19,
   "metadata": {},
   "outputs": [
    {
     "name": "stdout",
     "output_type": "stream",
     "text": [
      "8\n"
     ]
    }
   ],
   "source": [
    "# 14. Generate a random number between 1 and 19.\n",
    "#import random\n",
    "import random \n",
    "\n",
    "# generating random number \n",
    "print (random.randrange(1,19))"
   ]
  },
  {
   "cell_type": "code",
   "execution_count": 20,
   "metadata": {},
   "outputs": [
    {
     "name": "stdout",
     "output_type": "stream",
     "text": [
      "0.0362695545003654\n"
     ]
    }
   ],
   "source": [
    "# 15. Generate a random number. \n",
    "#import random\n",
    "import random \n",
    "\n",
    "# generating a random number in the default range i.e 0 to 1\n",
    "print (random.random())\n"
   ]
  },
  {
   "cell_type": "code",
   "execution_count": 21,
   "metadata": {},
   "outputs": [
    {
     "name": "stdout",
     "output_type": "stream",
     "text": [
      "14\n",
      "22167858082768\n"
     ]
    }
   ],
   "source": [
    "# 16. What will be the modulus value of 456%34, 7892637634732372832%283478753928392.\n",
    "#modulus operator\n",
    "x = 456%34\n",
    "y = 7892637634732372832%283478753928392 \n",
    "\n",
    "print (x)\n",
    "print (y)\n",
    "#modulus gives us the remainder after divison"
   ]
  },
  {
   "cell_type": "code",
   "execution_count": 22,
   "metadata": {},
   "outputs": [
    {
     "name": "stdout",
     "output_type": "stream",
     "text": [
      "8\n"
     ]
    }
   ],
   "source": [
    "# 18. Write a simple lambda function.\n",
    "sum = lambda x, y : x + y\n",
    "print(sum(5, 3)) # Output: 8"
   ]
  },
  {
   "cell_type": "code",
   "execution_count": 23,
   "metadata": {},
   "outputs": [
    {
     "name": "stdout",
     "output_type": "stream",
     "text": [
      "[1, 3, 5, 7, 9, 11, 13, 15, 17, 19, 21, 23, 25, 27, 29, 31, 33, 35, 37, 39, 41, 43, 45, 47, 49, 51, 53, 55, 57, 59, 61, 63, 65, 67, 69, 71, 73, 75, 77, 79, 81, 83, 85, 87, 89, 91, 93, 95, 97, 99]\n"
     ]
    }
   ],
   "source": [
    "# 19. Write a function to extract odd numbers from first 100 natural numbers.\n",
    "odd_numbers = [x for x in range(0,101) if x % 2 != 0]\n",
    "print(odd_numbers)"
   ]
  },
  {
   "cell_type": "code",
   "execution_count": 24,
   "metadata": {},
   "outputs": [
    {
     "name": "stdout",
     "output_type": "stream",
     "text": [
      "2004 is a leap year.\n",
      "2010 is not a leap year.\n",
      "2020 is a leap year.\n",
      "2023 is not a leap year.\n"
     ]
    }
   ],
   "source": [
    "# 20. Is 2004,2010,2020,2023 a leap year? Write the code for testing the same. \n",
    "import calendar\n",
    "\n",
    "years_to_test = [2004, 2010, 2020, 2023]\n",
    "for year in years_to_test:\n",
    "    if calendar.isleap(year):\n",
    "        print(f\"{year} is a leap year.\")\n",
    "    else:\n",
    "        print(f\"{year} is not a leap year.\")"
   ]
  },
  {
   "cell_type": "code",
   "execution_count": 25,
   "metadata": {},
   "outputs": [
    {
     "name": "stdout",
     "output_type": "stream",
     "text": [
      "Hello World\n"
     ]
    }
   ],
   "source": [
    "# 21. Print a Hello World Statement.\n",
    "print ('Hello World')"
   ]
  },
  {
   "cell_type": "code",
   "execution_count": 26,
   "metadata": {},
   "outputs": [
    {
     "name": "stdout",
     "output_type": "stream",
     "text": [
      "200\n"
     ]
    }
   ],
   "source": [
    "# 22. If, a= 10, b= 20, c= 30, d= 40, what will be the value of x= (a+b)+(c+d)+(a+c)+(b+d)?\n",
    "a= 10\n",
    "b= 20\n",
    "c= 30\n",
    "d= 40\n",
    "x= (a+b)+(c+d)+(a+c)+(b+d)\n",
    "print (x)"
   ]
  },
  {
   "cell_type": "code",
   "execution_count": 27,
   "metadata": {},
   "outputs": [
    {
     "name": "stdout",
     "output_type": "stream",
     "text": [
      "11 11\n"
     ]
    }
   ],
   "source": [
    "# 23. For x = 56-45, y = 67-56. Print the answers together.\n",
    "x = 56-45\n",
    "y = 67-56\n",
    "print (x, y)"
   ]
  },
  {
   "cell_type": "code",
   "execution_count": null,
   "metadata": {},
   "outputs": [],
   "source": [
    "# 24. Write the comand to install any package in python.\n",
    "# pip install ......\n",
    "# after pip install simply write the name of library"
   ]
  },
  {
   "cell_type": "code",
   "execution_count": 31,
   "metadata": {},
   "outputs": [
    {
     "name": "stdout",
     "output_type": "stream",
     "text": [
      "415\n",
      "555-4242\n"
     ]
    }
   ],
   "source": [
    "# 25. Write an expression for extracting area code and mainnumber from 415-555-4242, using regular expression.\n",
    "# Regular Expression\n",
    "# Import the library for regular expression\n",
    "\n",
    "import re\n",
    "\n",
    "phoneNumRegex = re.compile(r'(\\d\\d\\d)-(\\d\\d\\d-\\d\\d\\d\\d)')\n",
    "mo = phoneNumRegex.search('My number is 415-555-4242.')\n",
    "('415', '555 - 4242')\n",
    "areaCode, mainNumber = mo.groups()\n",
    "print(areaCode)\n",
    "print(mainNumber)"
   ]
  }
 ],
 "metadata": {
  "kernelspec": {
   "display_name": "Python 3.9.13 64-bit",
   "language": "python",
   "name": "python3"
  },
  "language_info": {
   "codemirror_mode": {
    "name": "ipython",
    "version": 3
   },
   "file_extension": ".py",
   "mimetype": "text/x-python",
   "name": "python",
   "nbconvert_exporter": "python",
   "pygments_lexer": "ipython3",
   "version": "3.9.13"
  },
  "orig_nbformat": 4,
  "vscode": {
   "interpreter": {
    "hash": "b0fa6594d8f4cbf19f97940f81e996739fb7646882a419484c72d19e05852a7e"
   }
  }
 },
 "nbformat": 4,
 "nbformat_minor": 2
}
